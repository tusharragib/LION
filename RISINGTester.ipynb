{
 "cells": [
  {
   "cell_type": "code",
   "execution_count": null,
   "id": "caef10cf",
   "metadata": {},
   "outputs": [
    {
     "ename": "",
     "evalue": "",
     "output_type": "error",
     "traceback": [
      "\u001b[1;31mThe kernel failed to start as 'TypeAliasType' could not be imported from '/store/LION/smrsi2/anaconda/envs/lion/lib/python3.10/site-packages/typing_extensions.py'.\n",
      "\u001b[1;31mClick <a href='https://aka.ms/kernelFailuresModuleImportErrFromFile'>here</a> for more info."
     ]
    }
   ],
   "source": [
    "# %% This example shows how to train FBPConvNet for full angle, noisy measurements.\n",
    "\n",
    "# %% Imports\n",
    "\n",
    "# Standard imports\n",
    "import matplotlib.pyplot as plt\n",
    "import pathlib\n",
    "from skimage.metrics import structural_similarity as ssim\n",
    "\n",
    "# Torch imports\n",
    "import torch\n",
    "from torch.utils.data import DataLoader\n",
    "import torch.utils.data as data_utils\n",
    "\n",
    "# Lion imports\n",
    "# *** MODIFICATION 1: Import FBPConvNet ***\n",
    "from LION.utils.parameter import LIONParameter\n",
    "import LION.experiments.ct_experiments as ct_experiments\n",
    "from LION.optimizers.SupervisedSolver import SupervisedSolver\n",
    "from LION.optimizers.RISINGSolver import RISINGSolver\n",
    "\n",
    "from LION.models.post_processing.FBPConvNet import FBPConvNet\n",
    "from LION.data_loaders.LIDC_IDRI import LIDC_IDRI\n",
    "import LION.CTtools.ct_geometry as ctgeo\n"
   ]
  },
  {
   "cell_type": "code",
   "execution_count": null,
   "id": "0aa53ed6",
   "metadata": {},
   "outputs": [],
   "source": [
    "def my_ssim(x, y):\n",
    "    x = x.cpu().numpy().squeeze()\n",
    "    y = y.cpu().numpy().squeeze()\n",
    "    return ssim(x, y, data_range=x.max() - x.min())\n"
   ]
  },
  {
   "cell_type": "code",
   "execution_count": null,
   "id": "4e13db7a",
   "metadata": {},
   "outputs": [],
   "source": [
    "# %%\n",
    "# % Chose device:\n",
    "device = torch.device(\"cuda:3\")\n",
    "torch.cuda.set_device(device)\n",
    "\n",
    "# # Define your data paths\n",
    "# savefolder = pathlib.Path(\"/store/LION/smrsi2/trained_models/test_debbuging_FBPConvNet/\")\n",
    "# final_result_fname = \"FBPConvNet.pt\"\n",
    "# checkpoint_fname = \"FBPConvNet_check_*.pt\"\n",
    "# validation_fname = \"FBPConvNet_min_val.pt\"\n"
   ]
  },
  {
   "cell_type": "code",
   "execution_count": null,
   "id": "a4879209",
   "metadata": {},
   "outputs": [],
   "source": [
    "# experiment = ct_experiments.LowDoseCTRecon(dataset=\"LIDC-IDRI\")\n",
    "# # experiment = ct_experiments.ExtremeLowDoseCTRecon(dataset=\"LIDC-IDRI\")\n",
    "# # %% Dataset\n",
    "# lidc_dataset = experiment.get_training_dataset()\n",
    "# lidc_dataset_val = experiment.get_validation_dataset()\n",
    "# lidc_dataset_test = experiment.get_testing_dataset()\n",
    "# # smaller dataset for example. Remove this for full dataset\n",
    "# indices = torch.arange(10)\n",
    "# lidc_dataset = data_utils.Subset(lidc_dataset, indices)\n",
    "# lidc_dataset_val = data_utils.Subset(lidc_dataset_val, indices)\n",
    "\n",
    "# # get one sample\n",
    "\n",
    "\n",
    "# # %% Define DataLoader\n",
    "# # Use the same amount of training\n"
   ]
  },
  {
   "cell_type": "code",
   "execution_count": null,
   "id": "c7f3d805",
   "metadata": {},
   "outputs": [],
   "source": [
    "# %% Model\n",
    "\n",
    "# *** MODIFICATION 2: Initialize FBPConvNet with its parameters ***\n",
    "default_parameters = FBPConvNet.default_parameters()\n",
    "# FBPConvNet does not use 'learned_step' or 'n_iters' as it's a non-iterative model.\n",
    "# The network structure and parameters are configured within its default_parameters.\n",
    "model, options, data = FBPConvNet.load(\"/store/LION/smrsi2/trained_models/test_debbuging_FBPConvNet/FBPConvNet_10_200.pt\")\n",
    "model.cite()\n",
    "model.cite(\"bib\")\n"
   ]
  },
  {
   "cell_type": "code",
   "execution_count": null,
   "id": "135f3bc1",
   "metadata": {},
   "outputs": [],
   "source": [
    "geo = ctgeo.Geometry.default_parameters()\n",
    "dataset = LIDC_IDRI(mode='train', geometry_parameters = geo)"
   ]
  },
  {
   "cell_type": "code",
   "execution_count": null,
   "id": "7f0e1395",
   "metadata": {},
   "outputs": [],
   "source": []
  },
  {
   "cell_type": "code",
   "execution_count": null,
   "id": "aa677c5b",
   "metadata": {},
   "outputs": [],
   "source": []
  },
  {
   "cell_type": "code",
   "execution_count": null,
   "id": "d38f6adb",
   "metadata": {},
   "outputs": [],
   "source": []
  },
  {
   "cell_type": "code",
   "execution_count": null,
   "id": "430dc7db",
   "metadata": {},
   "outputs": [],
   "source": []
  },
  {
   "cell_type": "code",
   "execution_count": null,
   "id": "9b5f45d8",
   "metadata": {},
   "outputs": [],
   "source": []
  },
  {
   "cell_type": "code",
   "execution_count": null,
   "id": "9cf0466c",
   "metadata": {},
   "outputs": [],
   "source": []
  },
  {
   "cell_type": "code",
   "execution_count": null,
   "id": "ec35ce16",
   "metadata": {},
   "outputs": [],
   "source": []
  },
  {
   "cell_type": "code",
   "execution_count": null,
   "id": "b357610a",
   "metadata": {},
   "outputs": [],
   "source": []
  },
  {
   "cell_type": "code",
   "execution_count": null,
   "id": "e376ed37",
   "metadata": {},
   "outputs": [],
   "source": []
  }
 ],
 "metadata": {
  "kernelspec": {
   "display_name": "Python 3",
   "language": "python",
   "name": "python3"
  },
  "language_info": {
   "name": "python",
   "version": "3.10.12"
  }
 },
 "nbformat": 4,
 "nbformat_minor": 5
}
